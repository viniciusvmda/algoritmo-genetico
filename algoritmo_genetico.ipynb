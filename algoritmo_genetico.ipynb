{
 "cells": [
  {
   "cell_type": "markdown",
   "metadata": {},
   "source": [
    "# Tarefa 9\n",
    "Implementar um algoritmo genético para resolver um problema de minimização.\n",
    "\n",
    "## Autores\n",
    "Renan Mateus Bernardo Nascimento\n",
    "<br/>Vinícius Magalhães D'Assunção"
   ]
  },
  {
   "cell_type": "markdown",
   "metadata": {},
   "source": [
    "## Classe Cromossomo\n",
    "Define o TAD de cromossomo, que possui como atributos uma lista de alelos e um valor de aptidão."
   ]
  },
  {
   "cell_type": "code",
   "execution_count": 1,
   "metadata": {},
   "outputs": [
    {
     "name": "stdout",
     "output_type": "stream",
     "text": [
      "Overwriting cromossomo.py\n"
     ]
    }
   ],
   "source": [
    "%%writefile cromossomo.py\n",
    "#encoding: utf-8\n",
    "import numpy as np\n",
    "\n",
    "class Cromossomo:\n",
    "    \n",
    "    def __init__(self, qtd_alelos):\n",
    "        self.alelos = np.zeros(qtd_alelos)\n",
    "        self.aptidao = 0.0"
   ]
  },
  {
   "cell_type": "markdown",
   "metadata": {},
   "source": [
    "## Classe Ag\n",
    "Possui a implementação do algoritmo genético, possuindo os métodos para de população, cálculo de aptidão, seleção, cruzamento e mutação."
   ]
  },
  {
   "cell_type": "code",
   "execution_count": 9,
   "metadata": {},
   "outputs": [
    {
     "name": "stdout",
     "output_type": "stream",
     "text": [
      "Overwriting ag.py\n"
     ]
    }
   ],
   "source": [
    "%%writefile ag.py\n",
    "#encoding: utf-8\n",
    "import numpy as np\n",
    "import random\n",
    "from cromossomo import Cromossomo\n",
    "\n",
    "class Ag:\n",
    "\n",
    "    def __init__(self, tam_populacao, inicio, fim, tax_cruzamento, tax_mutacao, max_geracoes):\n",
    "        self.tam_populacao = tam_populacao\n",
    "        # valor inicial para alelos do cromossomo\n",
    "        self.inicio = inicio\n",
    "        # valor final para alelos do cromossomo\n",
    "        self.fim = fim\n",
    "        self.tax_cruzamento = tax_cruzamento\n",
    "        self.tax_mutacao = tax_mutacao\n",
    "        self.max_geracoes = max_geracoes\n",
    "        # offset da função de aptidão\n",
    "        self.OFFSET = 1500\n",
    "        self.QTD_ALELOS = 2\n",
    "        self.populacao = []\n",
    "\n",
    "\n",
    "    '''\n",
    "    ' Inicializa a lista de população\n",
    "    '''\n",
    "    def popular(self):\n",
    "        for c in range(0, self.tam_populacao):\n",
    "            cromosssomo = Cromossomo(self.QTD_ALELOS)\n",
    "            for a in range(0, len(cromosssomo.alelos)):\n",
    "                cromosssomo.alelos[a] = random.randrange(self.inicio, self.fim + 1)\n",
    "            self.populacao.append(cromosssomo)\n",
    "        self.calcAptidao()\n",
    "\n",
    "    '''\n",
    "    ' Calcula a função de aptidão de toda a população\n",
    "    '''\n",
    "    def calcAptidao(self):\n",
    "        for c in self.populacao:\n",
    "            x1, x2 = (c.alelos[0], c.alelos[1])\n",
    "            c.aptidao = self.OFFSET + (x2 + 47) * np.sin(np.sqrt(abs(x2 + x1/2 +47))) + x1 * np.sin(np.sqrt(abs(x1 - (x2 + 47))))\n",
    "\n",
    "\n",
    "    '''\n",
    "    ' Faz a seleção da população utilizando o método da roleta\n",
    "    ' @return selecionados\n",
    "    '''\n",
    "    def selecao(self):\n",
    "        selecionados = []\n",
    "        roleta = {}\n",
    "        total = 0\n",
    "        \n",
    "        # Adiciona índice do cromossomo à roleta\n",
    "        for i, c in enumerate(self.populacao):\n",
    "            roleta[(total, total + c.aptidao)] = i\n",
    "            total += c.aptidao\n",
    "        \n",
    "        # Sorteia tam_populacao/2 números para selecionar na roleta\n",
    "        for i in range(0, int(self.tam_populacao/2)):\n",
    "            num = random.uniform(0, total + 1)\n",
    "            for intervalo, c in roleta.items():\n",
    "                if num > intervalo[0] and num <= intervalo[1]:\n",
    "                    selecionados.append(c)\n",
    "                    \n",
    "        return selecionados\n",
    "    \n",
    "    \n",
    "    '''\n",
    "    ' Faz o cruzamento utilizando o método aritmético\n",
    "    '''\n",
    "    def cruzamento(self):\n",
    "        pass\n",
    "\n",
    "    '''\n",
    "    ' Faz a mutação utilizando o método CREEP\n",
    "    '''\n",
    "    def mutacao(self):\n",
    "        pass\n",
    "\n",
    "    '''\n",
    "    ' Executa max_geracoes vezes o algoritmo genético\n",
    "    '''\n",
    "    def executar(self):\n",
    "        self.popular()\n",
    "\n",
    "\n",
    "    def imprimirPopulacao(self):\n",
    "        for c in self.populacao:\n",
    "            print(str(c.alelos[0]) + '\\t' + str(c.alelos[1]) + '\\t' + str(c.aptidao))"
   ]
  },
  {
   "cell_type": "code",
   "execution_count": 11,
   "metadata": {},
   "outputs": [
    {
     "name": "stdout",
     "output_type": "stream",
     "text": [
      "-387.0\t-552.0\t1397.48409787\n",
      "-564.0\t-541.0\t808.163519643\n",
      "535.0\t-269.0\t1769.85409269\n",
      "514.0\t-460.0\t1107.73831092\n",
      "-400.0\t56.0\t1626.73009741\n",
      "493.0\t277.0\t1399.91747379\n",
      "-51.0\t-451.0\t1117.65066892\n",
      "-234.0\t-298.0\t1612.30389571\n",
      "-201.0\t-293.0\t1474.41036062\n",
      "-440.0\t312.0\t1244.99796981\n"
     ]
    },
    {
     "data": {
      "text/plain": [
       "[3, 2, 2, 4, 9]"
      ]
     },
     "execution_count": 11,
     "metadata": {},
     "output_type": "execute_result"
    }
   ],
   "source": [
    "#encoding: utf-8\n",
    "from ag import Ag\n",
    "\n",
    "tam_populacao, inicio, fim, tax_cruzamento, tax_mutacao, max_geracoes = (10, -600, 600, 0.05, 0.3, 10)\n",
    "ag = Ag(tam_populacao, inicio, fim, tax_cruzamento, tax_mutacao, max_geracoes)\n",
    "\n",
    "ag.executar()\n",
    "ag.imprimirPopulacao()\n",
    "ag.selecao()"
   ]
  }
 ],
 "metadata": {
  "kernelspec": {
   "display_name": "Python 3",
   "language": "python",
   "name": "python3"
  },
  "language_info": {
   "codemirror_mode": {
    "name": "ipython",
    "version": 3
   },
   "file_extension": ".py",
   "mimetype": "text/x-python",
   "name": "python",
   "nbconvert_exporter": "python",
   "pygments_lexer": "ipython3",
   "version": "3.6.3"
  }
 },
 "nbformat": 4,
 "nbformat_minor": 2
}
