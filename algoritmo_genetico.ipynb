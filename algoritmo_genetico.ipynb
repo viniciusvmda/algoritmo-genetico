{
 "cells": [
  {
   "cell_type": "markdown",
   "metadata": {},
   "source": [
    "# Tarefa 9\n",
    "Implementar um algoritmo genético para resolver um problema de minimização.\n",
    "\n",
    "## Autores\n",
    "Renan Mateus Bernardo Nascimento\n",
    "<br/>Vinícius Magalhães D'Assunção"
   ]
  },
  {
   "cell_type": "code",
   "execution_count": 1,
   "metadata": {
    "collapsed": true
   },
   "outputs": [],
   "source": [
    "import numpy as np\n",
    "import random"
   ]
  },
  {
   "cell_type": "markdown",
   "metadata": {},
   "source": [
    "## Classe Cromossomo\n",
    "Define o TAD de cromossomo, que possui como atributos uma lista de alelos e um valor de aptidão."
   ]
  },
  {
   "cell_type": "code",
   "execution_count": 2,
   "metadata": {},
   "outputs": [],
   "source": [
    "class Cromossomo:\n",
    "    \n",
    "    def __init__(self, qtd_alelos):\n",
    "        self.alelos = np.zeros(qtd_alelos)\n",
    "        self.aptidao = 0.0"
   ]
  },
  {
   "cell_type": "markdown",
   "metadata": {},
   "source": [
    "## Classe Ag\n",
    "Possui a implementação do algoritmo genético, possuindo os métodos para de população, cálculo de aptidão, seleção, cruzamento e mutação."
   ]
  },
  {
   "cell_type": "code",
   "execution_count": 49,
   "metadata": {},
   "outputs": [],
   "source": [
    "class Ag:\n",
    "\n",
    "    def __init__(self, tam_populacao, inicio, fim, alfa_cruzamento, tax_cruzamento, tax_mutacao, max_geracoes):\n",
    "        self.tam_populacao = tam_populacao\n",
    "        # valor inicial para alelos do cromossomo\n",
    "        self.inicio = inicio\n",
    "        # Valor final para alelos do cromossomo\n",
    "        self.fim = fim\n",
    "        # Valor porcentagem do cromossomo que será utilizada dos pais no cruzamento\n",
    "        self.alfa_cruzamento = alfa_cruzamento\n",
    "        self.tax_cruzamento = tax_cruzamento\n",
    "        self.tax_mutacao = tax_mutacao\n",
    "        self.max_geracoes = max_geracoes\n",
    "        # offset da função de aptidão\n",
    "        self.OFFSET = 1500\n",
    "        self.QTD_ALELOS = 2\n",
    "        self.populacao = []\n",
    "\n",
    "    '''\n",
    "    ' Inicializa a lista de população\n",
    "    '''\n",
    "    def popular(self):\n",
    "        for c in range(0, self.tam_populacao):\n",
    "            cromo = Cromossomo(self.QTD_ALELOS)\n",
    "            for a in range(0, len(cromo.alelos)):\n",
    "                cromo.alelos[a] = random.randrange(self.inicio, self.fim + 1)\n",
    "            cromo.aptidao = self.calcAptidao(cromo.alelos[0], cromo.alelos[1])\n",
    "            self.populacao.append(cromo)\n",
    "\n",
    "    '''\n",
    "    ' Calcula a função de aptidão de toda a população\n",
    "    '''\n",
    "    def calcAptidao(self, x1, x2):\n",
    "        return self.OFFSET + (x2 + 47) * np.sin(np.sqrt(abs(x2 + x1/2 +47))) + x1 * np.sin(np.sqrt(abs(x1 - (x2 + 47))))\n",
    "        \n",
    "    '''\n",
    "    ' Faz a seleção da população utilizando o método da roleta\n",
    "    ' @return selecao\n",
    "    '''\n",
    "    def selecionar(self):\n",
    "        selecao = []\n",
    "        roleta = {}\n",
    "        total = 0\n",
    "        \n",
    "        # Adiciona índice do cromossomo à roleta\n",
    "        for i, c in enumerate(self.populacao):\n",
    "            # A roleta possui a tupla inicio_intervalo e fim_intervalo como índice do dicionário\n",
    "            # O valor corresponde ao índice do vetor de população\n",
    "            roleta[(total, total + c.aptidao)] = i\n",
    "            total += c.aptidao\n",
    "        \n",
    "        # Sorteia tam_populacao/2 números para selecionar na roleta\n",
    "        for i in range(0, self.tam_populacao):\n",
    "            # Sorteia o número entre 0(fechado) e a aptidão total(aberto)\n",
    "            num = random.uniform(0, total)\n",
    "            for intervalo, c in roleta.items():\n",
    "                if num >= intervalo[0] and num < intervalo[1]:\n",
    "                    selecao.append(c)\n",
    "        return selecao\n",
    "    \n",
    "    '''\n",
    "    ' Faz o cruzamento utilizando o método aritmético\n",
    "    '''\n",
    "    def cruzar(self, selecao):\n",
    "        selecao = self.selecionar()\n",
    "        filhos = []\n",
    "        for i in range(0, int(len(selecao)/2)):\n",
    "            (pai, pai2) = (self.populacao[selecao[2 * i]], self.populacao[selecao[2 * i + 1]])\n",
    "            # Sorteia um número de 0 a 1 com duas casas decimais\n",
    "            num = random.randrange(0, 100) / 100\n",
    "            if num <= self.tax_cruzamento:\n",
    "                # Se for menor que a taxa de cruzamento, faz o cruzamento aritmético\n",
    "                qtd_alelos = len(pai.alelos)\n",
    "                # Cria os cromossomos\n",
    "                f1 = Cromossomo(qtd_alelos)\n",
    "                f2 = Cromossomo(qtd_alelos)\n",
    "                f1.alelos = self.alfa_cruzamento * pai.alelos + (1 - self.alfa_cruzamento) * pai2.alelos\n",
    "                f2.alelos = (1 - self.alfa_cruzamento) * pai.alelos + self.alfa_cruzamento * pai2.alelos\n",
    "                f1.aptidao = self.calcAptidao(f1.alelos[0], f1.alelos[1])\n",
    "                f2.aptidao = self.calcAptidao(f2.alelos[0], f2.alelos[1])\n",
    "                # Adiciona a lista de filhos\n",
    "                filhos.append(f1)\n",
    "                filhos.append(f2)\n",
    "            else:\n",
    "                # Senão apenas propaga os pais\n",
    "                filhos.append(pai)\n",
    "                filhos.append(pai2)\n",
    "        return filhos\n",
    "    \n",
    "    '''\n",
    "    ' Faz a mutação utilizando o método CREEP\n",
    "    '''\n",
    "    def mutar(self, filhos):\n",
    "        n_casas = 1000 # Número de casas decimais para avaliar a mutação\n",
    "        for cromo in filhos:\n",
    "            for i in range(0, len(cromo.alelos)):\n",
    "                # Sorteia um número de 0 a 1 com 3 casas decimais\n",
    "                num = random.randrange(0, n_casas) / n_casas\n",
    "                if num <= self.tax_mutacao:\n",
    "                    delta = random.randrange(self.inicio, self.fim)\n",
    "                    cromo.alelos[i] += delta\n",
    "\n",
    "    '''\n",
    "    ' Executa max_geracoes vezes o algoritmo genético\n",
    "    '''\n",
    "    def executar(self):\n",
    "        self.popular()\n",
    "        self.imprimirPopulacao()\n",
    "        selecao = self.selecionar()\n",
    "        filhos = self.cruzar(selecao)\n",
    "        self.mutar(filhos)\n",
    "        self.populacao = filhos\n",
    "        print(\"\")\n",
    "        self.imprimirPopulacao()\n",
    "\n",
    "    def imprimirPopulacao(self):\n",
    "        for c in self.populacao:\n",
    "            print(str(c.alelos[0]) + '\\t' + str(c.alelos[1]) + '\\t' + str(c.aptidao))"
   ]
  },
  {
   "cell_type": "code",
   "execution_count": 48,
   "metadata": {},
   "outputs": [
    {
     "name": "stdout",
     "output_type": "stream",
     "text": [
      "-74.0\t505.0\t1151.6788901\n",
      "563.0\t143.0\t1803.76087659\n",
      "-511.0\t22.0\t2004.32072848\n",
      "-156.0\t557.0\t909.736345722\n",
      "256.0\t495.0\t1631.15721366\n",
      "446.0\t-310.0\t1933.81893187\n",
      "-327.0\t-174.0\t1296.52225174\n",
      "568.0\t589.0\t1462.61950419\n",
      "-523.0\t456.0\t1282.07384687\n",
      "-483.0\t338.0\t1734.64361366\n",
      "-262.0\t-191.0\t1870.23440809\n",
      "-591.0\t549.0\t843.203182912\n",
      "\n",
      "70.0\t121.0\t1634.97671698\n",
      "236.0\t277.0\t1777.14515498\n",
      "-494.2\t211.6\t1069.07313424\n",
      "-499.8\t148.4\t1202.36874048\n",
      "256.0\t495.0\t1631.15721366\n",
      "-262.0\t-191.0\t1870.23440809\n",
      "70.0\t121.0\t1634.97671698\n",
      "236.0\t277.0\t1777.14515498\n",
      "-494.2\t211.6\t1069.07313424\n",
      "-499.8\t148.4\t1202.36874048\n",
      "568.0\t589.0\t1462.61950419\n",
      "256.0\t495.0\t1631.15721366\n"
     ]
    }
   ],
   "source": [
    "tam_populacao, inicio, fim, alfa, tax_cruzamento, tax_mutacao, max_geracoes = (12, -600, 600, 0.6, 0.5, 0.008, 10)\n",
    "ag = Ag(tam_populacao, inicio, fim, alfa, tax_cruzamento, tax_mutacao, max_geracoes)\n",
    "\n",
    "ag.executar()"
   ]
  }
 ],
 "metadata": {
  "kernelspec": {
   "display_name": "Python 3",
   "language": "python",
   "name": "python3"
  },
  "language_info": {
   "codemirror_mode": {
    "name": "ipython",
    "version": 3
   },
   "file_extension": ".py",
   "mimetype": "text/x-python",
   "name": "python",
   "nbconvert_exporter": "python",
   "pygments_lexer": "ipython3",
   "version": "3.6.3"
  }
 },
 "nbformat": 4,
 "nbformat_minor": 2
}
