{
 "cells": [
  {
   "cell_type": "markdown",
   "metadata": {},
   "source": [
    "# Tarefa 9\n",
    "Implementar um algoritmo genético para resolver um problema de minimização.\n",
    "\n",
    "## Autores\n",
    "Renan Mateus Bernardo Nascimento\n",
    "<br/>Vinícius Magalhães D'Assunção"
   ]
  },
  {
   "cell_type": "markdown",
   "metadata": {},
   "source": [
    "## Classe Cromossomo\n",
    "Define o TAD de cromossomo, que possui como atributos uma lista de alelos e um valor de aptidão."
   ]
  },
  {
   "cell_type": "code",
   "execution_count": 1,
   "metadata": {},
   "outputs": [
    {
     "name": "stdout",
     "output_type": "stream",
     "text": [
      "Overwriting cromossomo.py\n"
     ]
    }
   ],
   "source": [
    "%%writefile cromossomo.py\n",
    "#encoding: utf-8\n",
    "import numpy as np\n",
    "\n",
    "class Cromossomo:\n",
    "    \n",
    "    def __init__(self, qtd_alelos):\n",
    "        self.alelos = np.zeros(qtd_alelos)\n",
    "        self.aptidao = 0.0"
   ]
  },
  {
   "cell_type": "markdown",
   "metadata": {},
   "source": [
    "## Classe Ag\n",
    "Possui a implementação do algoritmo genético, possuindo os métodos para de população, cálculo de aptidão, seleção, cruzamento e mutação."
   ]
  },
  {
   "cell_type": "code",
   "execution_count": 6,
   "metadata": {},
   "outputs": [
    {
     "name": "stdout",
     "output_type": "stream",
     "text": [
      "Overwriting ag.py\n"
     ]
    }
   ],
   "source": [
    "%%writefile ag.py\n",
    "#encoding: utf-8\n",
    "import numpy as np\n",
    "import random\n",
    "from cromossomo import Cromossomo\n",
    "\n",
    "class Ag:\n",
    "\n",
    "    def __init__(self, tam_populacao, inicio, fim, tax_cruzamento, tax_mutacao, max_geracoes):\n",
    "        self.tam_populacao = tam_populacao\n",
    "        # valor inicial para alelos do cromossomo\n",
    "        self.inicio = inicio\n",
    "        # valor final para alelos do cromossomo\n",
    "        self.fim = fim\n",
    "        self.tax_cruzamento = tax_cruzamento\n",
    "        self.tax_mutacao = tax_mutacao\n",
    "        self.max_geracoes = max_geracoes\n",
    "        # offset da função de aptidão\n",
    "        self.OFFSET = 1500\n",
    "        self.QTD_ALELOS = 2\n",
    "        self.populacao = []\n",
    "\n",
    "\n",
    "    '''\n",
    "    ' Inicializa a lista de população\n",
    "    '''\n",
    "    def popular(self):\n",
    "        for c in range(0, self.tam_populacao):\n",
    "            cromosssomo = Cromossomo(self.QTD_ALELOS)\n",
    "            for a in range(0, len(cromosssomo.alelos)):\n",
    "                cromosssomo.alelos[a] = random.randrange(self.inicio, self.fim + 1)\n",
    "            self.populacao.append(cromosssomo)\n",
    "        self.calcAptidao()\n",
    "\n",
    "    '''\n",
    "    ' Calcula a função de aptidão de toda a população\n",
    "    '''\n",
    "    def calcAptidao(self):\n",
    "        for c in self.populacao:\n",
    "            x1, x2 = (c.alelos[0], c.alelos[1])\n",
    "            c.aptidao = self.OFFSET + (x2 + 47) * np.sin(np.sqrt(abs(x2 + x1/2 +47))) + x1 * np.sin(np.sqrt(abs(x1 - (x2 + 47))))\n",
    "\n",
    "\n",
    "    '''\n",
    "    ' Faz a seleção da população utilizando o método da roleta\n",
    "    ' @return selecao\n",
    "    '''\n",
    "    def selecionar(self):\n",
    "        selecao = []\n",
    "        roleta = {}\n",
    "        total = 0\n",
    "        \n",
    "        # Adiciona índice do cromossomo à roleta\n",
    "        for i, c in enumerate(self.populacao):\n",
    "            roleta[(total, total + c.aptidao)] = i\n",
    "            total += c.aptidao\n",
    "        \n",
    "        # Sorteia tam_populacao/2 números para selecionar na roleta\n",
    "        for i in range(0, int(self.tam_populacao/2)):\n",
    "            num = random.uniform(0, total + 1)\n",
    "            for intervalo, c in roleta.items():\n",
    "                if num > intervalo[0] and num <= intervalo[1]:\n",
    "                    selecao.append(c)\n",
    "                    \n",
    "        return selecao\n",
    "    \n",
    "    \n",
    "    '''\n",
    "    ' Faz o cruzamento utilizando o método aritmético\n",
    "    '''\n",
    "    def cruzar(self, selecao):\n",
    "        selecao = self.selecionar()\n",
    "        filhos = []\n",
    "        for i in range(0, int(len(selecao)/2)):\n",
    "            (pai, pai2) = (self.populacao[selecao[2 * i]], self.populacao[selecao[2 * i + 1]])\n",
    "            # Faz o cruzamento\n",
    "            f1 = self.tax_cruzamento * pai.alelos + (1 - self.tax_cruzamento) * pai.alelos\n",
    "            f2 = (1 - self.tax_cruzamento) * pai.alelos + self.tax_cruzamento * pai.alelos\n",
    "            filhos.append(f1)\n",
    "            filhos.append(f2)\n",
    "            \n",
    "        return filhos\n",
    "    \n",
    "    '''\n",
    "    ' Faz a mutação utilizando o método CREEP\n",
    "    '''\n",
    "    def mutar(self):\n",
    "        pass\n",
    "\n",
    "    '''\n",
    "    ' Executa max_geracoes vezes o algoritmo genético\n",
    "    '''\n",
    "    def executar(self):\n",
    "        self.popular()\n",
    "        #selecao = self.selecionar()\n",
    "        #cruzamento = self.cruzar(selecao)\n",
    "\n",
    "    def imprimirPopulacao(self):\n",
    "        for c in self.populacao:\n",
    "            print(str(c.alelos[0]) + '\\t' + str(c.alelos[1]) + '\\t' + str(c.aptidao))"
   ]
  },
  {
   "cell_type": "code",
   "execution_count": 7,
   "metadata": {},
   "outputs": [
    {
     "name": "stdout",
     "output_type": "stream",
     "text": [
      "-524.0\t-33.0\t1988.52303493\n",
      "516.0\t-576.0\t2269.72910477\n",
      "90.0\t409.0\t1350.84900628\n",
      "115.0\t-356.0\t1659.7417404\n",
      "182.0\t-22.0\t1469.00698824\n",
      "-442.0\t254.0\t1263.35561027\n",
      "367.0\t-555.0\t1522.5930354\n",
      "-410.0\t-346.0\t1999.81373131\n",
      "68.0\t-241.0\t1452.65923865\n",
      "282.0\t411.0\t1401.51786636\n",
      "[array([ 516., -576.]), array([ 516., -576.]), array([  68., -241.]), array([  68., -241.])]\n"
     ]
    }
   ],
   "source": [
    "#encoding: utf-8\n",
    "#from ag import Ag\n",
    "\n",
    "tam_populacao, inicio, fim, tax_cruzamento, tax_mutacao, max_geracoes = (10, -600, 600, 0.05, 0.3, 10)\n",
    "ag = Ag(tam_populacao, inicio, fim, tax_cruzamento, tax_mutacao, max_geracoes)\n",
    "\n",
    "ag.executar()\n",
    "ag.imprimirPopulacao()\n",
    "selecao = ag.selecionar()\n",
    "cruzamento = ag.cruzar(selecao)"
   ]
  }
 ],
 "metadata": {
  "kernelspec": {
   "display_name": "Python 3",
   "language": "python",
   "name": "python3"
  },
  "language_info": {
   "codemirror_mode": {
    "name": "ipython",
    "version": 3
   },
   "file_extension": ".py",
   "mimetype": "text/x-python",
   "name": "python",
   "nbconvert_exporter": "python",
   "pygments_lexer": "ipython3",
   "version": "3.6.3"
  }
 },
 "nbformat": 4,
 "nbformat_minor": 2
}
